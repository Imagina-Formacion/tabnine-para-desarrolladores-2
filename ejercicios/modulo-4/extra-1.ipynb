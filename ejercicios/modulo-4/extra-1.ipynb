{
 "cells": [
  {
   "cell_type": "code",
   "execution_count": 25,
   "id": "c6bb4042",
   "metadata": {},
   "outputs": [],
   "source": [
    "import pandas as pd\n",
    "import numpy as np"
   ]
  },
  {
   "cell_type": "code",
   "execution_count": 26,
   "id": "5bb3827a",
   "metadata": {},
   "outputs": [],
   "source": [
    "# Crea un dataframe de pandas con datos aleatorios de 10x3\n",
    "df = pd.DataFrame(np.random.rand(10, 3), columns=['col1', 'col2', 'col3'])\n"
   ]
  },
  {
   "cell_type": "code",
   "execution_count": null,
   "id": "98f84171",
   "metadata": {},
   "outputs": [
    {
     "name": "stdout",
     "output_type": "stream",
     "text": [
      "<class 'pandas.core.frame.DataFrame'>\n",
      "RangeIndex: 10 entries, 0 to 9\n",
      "Data columns (total 3 columns):\n",
      " #   Column  Non-Null Count  Dtype  \n",
      "---  ------  --------------  -----  \n",
      " 0   col1    10 non-null     float64\n",
      " 1   col2    10 non-null     float64\n",
      " 2   col3    10 non-null     float64\n",
      "dtypes: float64(3)\n",
      "memory usage: 368.0 bytes\n",
      "            col1       col2       col3\n",
      "count  10.000000  10.000000  10.000000\n",
      "mean    0.508496   0.539953   0.381799\n",
      "std     0.234643   0.175569   0.265461\n",
      "min     0.025932   0.272653   0.034730\n",
      "25%     0.423792   0.408730   0.199593\n",
      "50%     0.533204   0.565726   0.364826\n",
      "75%     0.696060   0.632556   0.555609\n",
      "max     0.772253   0.808514   0.745438 None        col1      col2      col3\n",
      "0  0.423775  0.400844  0.247375\n",
      "1  0.443889  0.808514  0.527987\n",
      "2  0.622519  0.348239  0.053418\n",
      "3  0.025932  0.432386  0.229191\n",
      "4  0.657490  0.606487  0.564816\n"
     ]
    }
   ],
   "source": [
    "# Exportamos los datos y los mostramos en una tabla usando describe(), info() y head()\n"
   ]
  }
 ],
 "metadata": {
  "kernelspec": {
   "display_name": "Python 3",
   "language": "python",
   "name": "python3"
  },
  "language_info": {
   "codemirror_mode": {
    "name": "ipython",
    "version": 3
   },
   "file_extension": ".py",
   "mimetype": "text/x-python",
   "name": "python",
   "nbconvert_exporter": "python",
   "pygments_lexer": "ipython3",
   "version": "3.9.6"
  }
 },
 "nbformat": 4,
 "nbformat_minor": 5
}
