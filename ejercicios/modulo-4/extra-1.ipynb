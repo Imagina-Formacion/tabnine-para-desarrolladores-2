{
 "cells": [
  {
   "cell_type": "code",
   "execution_count": null,
   "id": "c6bb4042",
   "metadata": {},
   "outputs": [],
   "source": [
    "import pandas as pd\n",
    "import numpy as np"
   ]
  },
  {
   "cell_type": "code",
   "execution_count": null,
   "id": "5bb3827a",
   "metadata": {},
   "outputs": [],
   "source": [
    "# Crea un dataframe de pandas con datos aleatorios de 10x3\n",
    "df = pd.DataFrame(np.random.rand(10, 3), columns=['col1', 'col2', 'col3'])\n"
   ]
  },
  {
   "cell_type": "code",
   "execution_count": null,
   "id": "98f84171",
   "metadata": {},
   "outputs": [],
   "source": [
    "# Exportamos los datos y los mostramos en la consola usando describe(), info() y head() \n",
    "print(df.describe(), df.info(), df.head())\n"
   ]
  }
 ],
 "metadata": {
  "language_info": {
   "name": "python"
  }
 },
 "nbformat": 4,
 "nbformat_minor": 5
}
